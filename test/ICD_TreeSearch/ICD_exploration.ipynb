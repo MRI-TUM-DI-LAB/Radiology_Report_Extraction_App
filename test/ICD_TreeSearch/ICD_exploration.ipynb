{
 "cells": [
  {
   "cell_type": "markdown",
   "metadata": {},
   "source": [
    "# ICD-10-CM code extraction\n",
    "https://www.cdc.gov/nchs/icd/icd-10-cm/files.html\n",
    "* filename ``icd10cm-codes-April-2025.txt``\n",
    "* taken from ``ftp.cdc.gov - /pub/Health_Statistics/NCHS/Publications/ICD10CM/2025-Update/`` **2307694 Code-desciptions-April-2025.zip**"
   ]
  },
  {
   "cell_type": "code",
   "execution_count": 1,
   "metadata": {},
   "outputs": [
    {
     "data": {
      "text/html": [
       "<div>\n",
       "<style scoped>\n",
       "    .dataframe tbody tr th:only-of-type {\n",
       "        vertical-align: middle;\n",
       "    }\n",
       "\n",
       "    .dataframe tbody tr th {\n",
       "        vertical-align: top;\n",
       "    }\n",
       "\n",
       "    .dataframe thead th {\n",
       "        text-align: right;\n",
       "    }\n",
       "</style>\n",
       "<table border=\"1\" class=\"dataframe\">\n",
       "  <thead>\n",
       "    <tr style=\"text-align: right;\">\n",
       "      <th></th>\n",
       "      <th>Code</th>\n",
       "      <th>Description</th>\n",
       "    </tr>\n",
       "  </thead>\n",
       "  <tbody>\n",
       "    <tr>\n",
       "      <th>0</th>\n",
       "      <td>A000</td>\n",
       "      <td>Cholera due to Vibrio cholerae 01, biovar chol...</td>\n",
       "    </tr>\n",
       "    <tr>\n",
       "      <th>1</th>\n",
       "      <td>A001</td>\n",
       "      <td>Cholera due to Vibrio cholerae 01, biovar eltor</td>\n",
       "    </tr>\n",
       "    <tr>\n",
       "      <th>2</th>\n",
       "      <td>A009</td>\n",
       "      <td>Cholera, unspecified</td>\n",
       "    </tr>\n",
       "    <tr>\n",
       "      <th>3</th>\n",
       "      <td>A0100</td>\n",
       "      <td>Typhoid fever, unspecified</td>\n",
       "    </tr>\n",
       "    <tr>\n",
       "      <th>4</th>\n",
       "      <td>A0101</td>\n",
       "      <td>Typhoid meningitis</td>\n",
       "    </tr>\n",
       "  </tbody>\n",
       "</table>\n",
       "</div>"
      ],
      "text/plain": [
       "    Code                                        Description\n",
       "0   A000  Cholera due to Vibrio cholerae 01, biovar chol...\n",
       "1   A001    Cholera due to Vibrio cholerae 01, biovar eltor\n",
       "2   A009                               Cholera, unspecified\n",
       "3  A0100                         Typhoid fever, unspecified\n",
       "4  A0101                                 Typhoid meningitis"
      ]
     },
     "execution_count": 1,
     "metadata": {},
     "output_type": "execute_result"
    }
   ],
   "source": [
    "import pandas as pd\n",
    "\n",
    "file_path = '/Users/3141562lar/Desktop/TUM/2425_SS/DI-LAB/2. ICD coding/icd10cm-codes-April-2025.txt'\n",
    "\n",
    "codes = []\n",
    "descriptions = []\n",
    "\n",
    "with open(file_path, 'r', encoding='utf-8') as f:\n",
    "    for line in f:\n",
    "        # Strip the line of trailing spaces/newlines\n",
    "        line = line.strip()\n",
    "        # The code is the first up to 8 characters (including possible dots)\n",
    "        # Then the description is the rest after the first whitespace following the code\n",
    "        # Split by whitespace only once:\n",
    "        parts = line.split(maxsplit=1)\n",
    "        if len(parts) == 2:\n",
    "            code, desc = parts\n",
    "            codes.append(code)\n",
    "            descriptions.append(desc)\n",
    "        else:\n",
    "            # If the line doesn't split well, handle it (e.g., missing description)\n",
    "            codes.append(parts[0])\n",
    "            descriptions.append('')\n",
    "\n",
    "df_icd = pd.DataFrame({'Code': codes, 'Description': descriptions})\n",
    "\n",
    "df_icd.head()"
   ]
  },
  {
   "cell_type": "markdown",
   "metadata": {},
   "source": [
    "## ICD-10-CM codes dataset exploration"
   ]
  },
  {
   "cell_type": "code",
   "execution_count": 2,
   "metadata": {},
   "outputs": [
    {
     "data": {
      "text/plain": [
       "(74260, 2)"
      ]
     },
     "execution_count": 2,
     "metadata": {},
     "output_type": "execute_result"
    }
   ],
   "source": [
    "df_icd.shape"
   ]
  },
  {
   "cell_type": "code",
   "execution_count": 3,
   "metadata": {},
   "outputs": [
    {
     "name": "stdout",
     "output_type": "stream",
     "text": [
      "Code length distribution:\n",
      "Code_Length\n",
      "3      216\n",
      "4     5395\n",
      "5     7084\n",
      "6    10387\n",
      "7    51178\n",
      "Name: count, dtype: int64\n"
     ]
    }
   ],
   "source": [
    "# 1. Compute lengths of the codes\n",
    "df_icd['Code_Length'] = df_icd['Code'].str.len()\n",
    "\n",
    "# 2. Get the distribution of code lengths\n",
    "length_distribution = df_icd['Code_Length'].value_counts().sort_index()\n",
    "print(\"Code length distribution:\")\n",
    "print(length_distribution)"
   ]
  },
  {
   "cell_type": "code",
   "execution_count": 4,
   "metadata": {},
   "outputs": [
    {
     "name": "stdout",
     "output_type": "stream",
     "text": [
      "\n",
      "Shortest code length: 3\n",
      "\n",
      "Subset of codes with shortest length:\n",
      "      Code                                        Description  Code_Length\n",
      "78     A09  Infectious gastroenteritis and colitis, unspec...            3\n",
      "198    A33                                 Tetanus neonatorum            3\n",
      "199    A34                                Obstetrical tetanus            3\n",
      "200    A35                                      Other tetanus            3\n",
      "276    A46                                         Erysipelas            3\n",
      "...    ...                                                ...          ...\n",
      "72959  Z08  Encounter for follow-up examination after comp...            3\n",
      "72960  Z09  Encounter for follow-up examination after comp...            3\n",
      "73099  Z21  Asymptomatic human immunodeficiency virus [HIV...            3\n",
      "73120  Z23                         Encounter for immunization            3\n",
      "73583  Z66                                 Do not resuscitate            3\n",
      "\n",
      "[216 rows x 3 columns]\n"
     ]
    }
   ],
   "source": [
    "# 3. Find the minimum length\n",
    "min_length = df_icd['Code_Length'].min()\n",
    "print(f\"\\nShortest code length: {min_length}\")\n",
    "\n",
    "# 4. Extract the sub-dataframe with shortest code length\n",
    "shortest_codes_df = df_icd[df_icd['Code_Length'] == min_length]\n",
    "print(\"\\nSubset of codes with shortest length:\")\n",
    "print(shortest_codes_df)"
   ]
  },
  {
   "cell_type": "markdown",
   "metadata": {},
   "source": [
    "### Incorporating chapter information to ICD-10-CM codes\n",
    "**NOTE:** The ``chapter_ranges`` dictionary has been created by ChatGPT. A quick sanity check shows that it seems to be correct, but it would be more reliable if we got the chapter information from an official source (I couldn't find it anywhere as downloadable material)."
   ]
  },
  {
   "cell_type": "code",
   "execution_count": 5,
   "metadata": {},
   "outputs": [],
   "source": [
    "import pandas as pd\n",
    "\n",
    "# Define ranges\n",
    "chapter_ranges = [\n",
    "    (\"A00\", \"B99\", \"I Certain infectious and parasitic diseases\"),\n",
    "    (\"C00\", \"D49\", \"II Neoplasms\"),\n",
    "    (\"D50\", \"D89\", \"III Diseases of the blood and blood-forming organs and certain disorders involving the immune mechanism\"),\n",
    "    (\"E00\", \"E89\", \"IV Endocrine, nutritional and metabolic diseases\"),\n",
    "    (\"F01\", \"F99\", \"V Mental and behavioural disorders\"),\n",
    "    (\"G00\", \"G99\", \"VI Diseases of the nervous system\"),\n",
    "    (\"H00\", \"H59\", \"VII Diseases of the eye and adnexa\"),\n",
    "    (\"H60\", \"H95\", \"VIII Diseases of the ear and mastoid process\"),\n",
    "    (\"I00\", \"I99\", \"IX Diseases of the circulatory system\"),\n",
    "    (\"J00\", \"J99\", \"X Diseases of the respiratory system\"),\n",
    "    (\"K00\", \"K95\", \"XI Diseases of the digestive system\"),\n",
    "    (\"L00\", \"L99\", \"XII Diseases of the skin and subcutaneous tissue\"),\n",
    "    (\"M00\", \"M99\", \"XIII Diseases of the musculoskeletal system and connective tissue\"),\n",
    "    (\"N00\", \"N99\", \"XIV Diseases of the genitourinary system\"),\n",
    "    (\"O00\", \"O9A\", \"XV Pregnancy, childbirth and the puerperium\"),\n",
    "    (\"P00\", \"P96\", \"XVI Certain conditions originating in the perinatal period\"),\n",
    "    (\"Q00\", \"Q99\", \"XVII Congenital malformations, deformations and chromosomal abnormalities\"),\n",
    "    (\"R00\", \"R99\", \"XVIII Symptoms, signs and abnormal clinical and laboratory findings, not elsewhere classified\"),\n",
    "    (\"S00\", \"T88\", \"XIX Injury, poisoning and certain other consequences of external causes\"),\n",
    "    (\"V00\", \"Y99\", \"XX External causes of morbidity and mortality\"),\n",
    "    (\"Z00\", \"Z99\", \"XXI Factors influencing health status and contact with health services\"),\n",
    "    (\"U00\", \"U85\", \"XXII Codes for special purposes\"),\n",
    "]\n",
    "\n",
    "# Convert ICD codes to comparable format (e.g. A010 -> A01)\n",
    "def normalize_code(code):\n",
    "    return code.replace(\".\", \"\").ljust(3, \"0\")[:3]\n",
    "\n",
    "def assign_chapter(code):\n",
    "    norm = normalize_code(code)\n",
    "    for start, end, chapter in chapter_ranges:\n",
    "        if start <= norm <= end:\n",
    "            return chapter\n",
    "    return \"Unclassified\"\n",
    "\n",
    "# Add chapter to df_icd\n",
    "df_icd[\"ICD_Chapter\"] = df_icd[\"Code\"].apply(assign_chapter)\n"
   ]
  },
  {
   "cell_type": "code",
   "execution_count": 6,
   "metadata": {},
   "outputs": [
    {
     "data": {
      "text/html": [
       "<div>\n",
       "<style scoped>\n",
       "    .dataframe tbody tr th:only-of-type {\n",
       "        vertical-align: middle;\n",
       "    }\n",
       "\n",
       "    .dataframe tbody tr th {\n",
       "        vertical-align: top;\n",
       "    }\n",
       "\n",
       "    .dataframe thead th {\n",
       "        text-align: right;\n",
       "    }\n",
       "</style>\n",
       "<table border=\"1\" class=\"dataframe\">\n",
       "  <thead>\n",
       "    <tr style=\"text-align: right;\">\n",
       "      <th></th>\n",
       "      <th>Code</th>\n",
       "      <th>Description</th>\n",
       "      <th>Code_Length</th>\n",
       "      <th>ICD_Chapter</th>\n",
       "    </tr>\n",
       "  </thead>\n",
       "  <tbody>\n",
       "    <tr>\n",
       "      <th>0</th>\n",
       "      <td>A000</td>\n",
       "      <td>Cholera due to Vibrio cholerae 01, biovar chol...</td>\n",
       "      <td>4</td>\n",
       "      <td>I Certain infectious and parasitic diseases</td>\n",
       "    </tr>\n",
       "    <tr>\n",
       "      <th>1</th>\n",
       "      <td>A001</td>\n",
       "      <td>Cholera due to Vibrio cholerae 01, biovar eltor</td>\n",
       "      <td>4</td>\n",
       "      <td>I Certain infectious and parasitic diseases</td>\n",
       "    </tr>\n",
       "    <tr>\n",
       "      <th>2</th>\n",
       "      <td>A009</td>\n",
       "      <td>Cholera, unspecified</td>\n",
       "      <td>4</td>\n",
       "      <td>I Certain infectious and parasitic diseases</td>\n",
       "    </tr>\n",
       "    <tr>\n",
       "      <th>3</th>\n",
       "      <td>A0100</td>\n",
       "      <td>Typhoid fever, unspecified</td>\n",
       "      <td>5</td>\n",
       "      <td>I Certain infectious and parasitic diseases</td>\n",
       "    </tr>\n",
       "    <tr>\n",
       "      <th>4</th>\n",
       "      <td>A0101</td>\n",
       "      <td>Typhoid meningitis</td>\n",
       "      <td>5</td>\n",
       "      <td>I Certain infectious and parasitic diseases</td>\n",
       "    </tr>\n",
       "  </tbody>\n",
       "</table>\n",
       "</div>"
      ],
      "text/plain": [
       "    Code                                        Description  Code_Length  \\\n",
       "0   A000  Cholera due to Vibrio cholerae 01, biovar chol...            4   \n",
       "1   A001    Cholera due to Vibrio cholerae 01, biovar eltor            4   \n",
       "2   A009                               Cholera, unspecified            4   \n",
       "3  A0100                         Typhoid fever, unspecified            5   \n",
       "4  A0101                                 Typhoid meningitis            5   \n",
       "\n",
       "                                   ICD_Chapter  \n",
       "0  I Certain infectious and parasitic diseases  \n",
       "1  I Certain infectious and parasitic diseases  \n",
       "2  I Certain infectious and parasitic diseases  \n",
       "3  I Certain infectious and parasitic diseases  \n",
       "4  I Certain infectious and parasitic diseases  "
      ]
     },
     "execution_count": 6,
     "metadata": {},
     "output_type": "execute_result"
    }
   ],
   "source": [
    "df_icd.head()"
   ]
  },
  {
   "cell_type": "code",
   "execution_count": 7,
   "metadata": {},
   "outputs": [
    {
     "data": {
      "application/vnd.plotly.v1+json": {
       "config": {
        "plotlyServerURL": "https://plot.ly"
       },
       "data": [
        {
         "domain": {
          "x": [
           0,
           1
          ],
          "y": [
           0,
           1
          ]
         },
         "hole": 0.3,
         "hoverinfo": "label+percent+name",
         "hovertemplate": "Legend_Label=%{label}<br>Count=%{value}<extra></extra>",
         "labels": [
          "XIX Injury, poisoning and certain other consequences of external causes (55.1%)",
          "XX External causes of morbidity and mortality (10.0%)",
          "XIII Diseases of the musculoskeletal system and connective tissue (9.0%)",
          "VII Diseases of the eye and adnexa (3.6%)",
          "XV Pregnancy, childbirth and the puerperium (3.3%)",
          "II Neoplasms (2.3%)",
          "IX Diseases of the circulatory system (1.9%)",
          "XXI Factors influencing health status and contact with health services (1.9%)",
          "I Certain infectious and parasitic diseases (1.4%)",
          "IV Endocrine, nutritional and metabolic diseases (1.3%)",
          "XII Diseases of the skin and subcutaneous tissue (1.2%)",
          "XVII Congenital malformations, deformations and chromosomal abnormalities (1.2%)",
          "V Mental and behavioural disorders (1.2%)",
          "XI Diseases of the digestive system (1.2%)",
          "XIV Diseases of the genitourinary system (1.1%)",
          "XVIII Symptoms, signs and abnormal clinical and laboratory findings, not elsewhere classified (1.0%)",
          "VI Diseases of the nervous system (0.9%)",
          "VIII Diseases of the ear and mastoid process (0.9%)",
          "XVI Certain conditions originating in the perinatal period (0.6%)",
          "X Diseases of the respiratory system (0.5%)",
          "III Diseases of the blood and blood-forming organs and certain disorders involving the immune mechanism (0.4%)",
          "XXII Codes for special purposes (0.0%)"
         ],
         "legendgroup": "",
         "name": "",
         "showlegend": true,
         "textinfo": "none",
         "type": "pie",
         "values": {
          "bdata": "7Z8AABEdAAAIGgAAZQoAAIUJAAC8BgAAjwUAAG4FAAArBAAAtwMAAHQDAABpAwAAZwMAAFkDAAA/AwAA8gIAALMCAACNAgAAzwEAAGgBAABBAQAAAwAAAA==",
          "dtype": "i4"
         }
        }
       ],
       "layout": {
        "legend": {
         "tracegroupgap": 0
        },
        "template": {
         "data": {
          "bar": [
           {
            "error_x": {
             "color": "#2a3f5f"
            },
            "error_y": {
             "color": "#2a3f5f"
            },
            "marker": {
             "line": {
              "color": "#E5ECF6",
              "width": 0.5
             },
             "pattern": {
              "fillmode": "overlay",
              "size": 10,
              "solidity": 0.2
             }
            },
            "type": "bar"
           }
          ],
          "barpolar": [
           {
            "marker": {
             "line": {
              "color": "#E5ECF6",
              "width": 0.5
             },
             "pattern": {
              "fillmode": "overlay",
              "size": 10,
              "solidity": 0.2
             }
            },
            "type": "barpolar"
           }
          ],
          "carpet": [
           {
            "aaxis": {
             "endlinecolor": "#2a3f5f",
             "gridcolor": "white",
             "linecolor": "white",
             "minorgridcolor": "white",
             "startlinecolor": "#2a3f5f"
            },
            "baxis": {
             "endlinecolor": "#2a3f5f",
             "gridcolor": "white",
             "linecolor": "white",
             "minorgridcolor": "white",
             "startlinecolor": "#2a3f5f"
            },
            "type": "carpet"
           }
          ],
          "choropleth": [
           {
            "colorbar": {
             "outlinewidth": 0,
             "ticks": ""
            },
            "type": "choropleth"
           }
          ],
          "contour": [
           {
            "colorbar": {
             "outlinewidth": 0,
             "ticks": ""
            },
            "colorscale": [
             [
              0,
              "#0d0887"
             ],
             [
              0.1111111111111111,
              "#46039f"
             ],
             [
              0.2222222222222222,
              "#7201a8"
             ],
             [
              0.3333333333333333,
              "#9c179e"
             ],
             [
              0.4444444444444444,
              "#bd3786"
             ],
             [
              0.5555555555555556,
              "#d8576b"
             ],
             [
              0.6666666666666666,
              "#ed7953"
             ],
             [
              0.7777777777777778,
              "#fb9f3a"
             ],
             [
              0.8888888888888888,
              "#fdca26"
             ],
             [
              1,
              "#f0f921"
             ]
            ],
            "type": "contour"
           }
          ],
          "contourcarpet": [
           {
            "colorbar": {
             "outlinewidth": 0,
             "ticks": ""
            },
            "type": "contourcarpet"
           }
          ],
          "heatmap": [
           {
            "colorbar": {
             "outlinewidth": 0,
             "ticks": ""
            },
            "colorscale": [
             [
              0,
              "#0d0887"
             ],
             [
              0.1111111111111111,
              "#46039f"
             ],
             [
              0.2222222222222222,
              "#7201a8"
             ],
             [
              0.3333333333333333,
              "#9c179e"
             ],
             [
              0.4444444444444444,
              "#bd3786"
             ],
             [
              0.5555555555555556,
              "#d8576b"
             ],
             [
              0.6666666666666666,
              "#ed7953"
             ],
             [
              0.7777777777777778,
              "#fb9f3a"
             ],
             [
              0.8888888888888888,
              "#fdca26"
             ],
             [
              1,
              "#f0f921"
             ]
            ],
            "type": "heatmap"
           }
          ],
          "histogram": [
           {
            "marker": {
             "pattern": {
              "fillmode": "overlay",
              "size": 10,
              "solidity": 0.2
             }
            },
            "type": "histogram"
           }
          ],
          "histogram2d": [
           {
            "colorbar": {
             "outlinewidth": 0,
             "ticks": ""
            },
            "colorscale": [
             [
              0,
              "#0d0887"
             ],
             [
              0.1111111111111111,
              "#46039f"
             ],
             [
              0.2222222222222222,
              "#7201a8"
             ],
             [
              0.3333333333333333,
              "#9c179e"
             ],
             [
              0.4444444444444444,
              "#bd3786"
             ],
             [
              0.5555555555555556,
              "#d8576b"
             ],
             [
              0.6666666666666666,
              "#ed7953"
             ],
             [
              0.7777777777777778,
              "#fb9f3a"
             ],
             [
              0.8888888888888888,
              "#fdca26"
             ],
             [
              1,
              "#f0f921"
             ]
            ],
            "type": "histogram2d"
           }
          ],
          "histogram2dcontour": [
           {
            "colorbar": {
             "outlinewidth": 0,
             "ticks": ""
            },
            "colorscale": [
             [
              0,
              "#0d0887"
             ],
             [
              0.1111111111111111,
              "#46039f"
             ],
             [
              0.2222222222222222,
              "#7201a8"
             ],
             [
              0.3333333333333333,
              "#9c179e"
             ],
             [
              0.4444444444444444,
              "#bd3786"
             ],
             [
              0.5555555555555556,
              "#d8576b"
             ],
             [
              0.6666666666666666,
              "#ed7953"
             ],
             [
              0.7777777777777778,
              "#fb9f3a"
             ],
             [
              0.8888888888888888,
              "#fdca26"
             ],
             [
              1,
              "#f0f921"
             ]
            ],
            "type": "histogram2dcontour"
           }
          ],
          "mesh3d": [
           {
            "colorbar": {
             "outlinewidth": 0,
             "ticks": ""
            },
            "type": "mesh3d"
           }
          ],
          "parcoords": [
           {
            "line": {
             "colorbar": {
              "outlinewidth": 0,
              "ticks": ""
             }
            },
            "type": "parcoords"
           }
          ],
          "pie": [
           {
            "automargin": true,
            "type": "pie"
           }
          ],
          "scatter": [
           {
            "fillpattern": {
             "fillmode": "overlay",
             "size": 10,
             "solidity": 0.2
            },
            "type": "scatter"
           }
          ],
          "scatter3d": [
           {
            "line": {
             "colorbar": {
              "outlinewidth": 0,
              "ticks": ""
             }
            },
            "marker": {
             "colorbar": {
              "outlinewidth": 0,
              "ticks": ""
             }
            },
            "type": "scatter3d"
           }
          ],
          "scattercarpet": [
           {
            "marker": {
             "colorbar": {
              "outlinewidth": 0,
              "ticks": ""
             }
            },
            "type": "scattercarpet"
           }
          ],
          "scattergeo": [
           {
            "marker": {
             "colorbar": {
              "outlinewidth": 0,
              "ticks": ""
             }
            },
            "type": "scattergeo"
           }
          ],
          "scattergl": [
           {
            "marker": {
             "colorbar": {
              "outlinewidth": 0,
              "ticks": ""
             }
            },
            "type": "scattergl"
           }
          ],
          "scattermap": [
           {
            "marker": {
             "colorbar": {
              "outlinewidth": 0,
              "ticks": ""
             }
            },
            "type": "scattermap"
           }
          ],
          "scattermapbox": [
           {
            "marker": {
             "colorbar": {
              "outlinewidth": 0,
              "ticks": ""
             }
            },
            "type": "scattermapbox"
           }
          ],
          "scatterpolar": [
           {
            "marker": {
             "colorbar": {
              "outlinewidth": 0,
              "ticks": ""
             }
            },
            "type": "scatterpolar"
           }
          ],
          "scatterpolargl": [
           {
            "marker": {
             "colorbar": {
              "outlinewidth": 0,
              "ticks": ""
             }
            },
            "type": "scatterpolargl"
           }
          ],
          "scatterternary": [
           {
            "marker": {
             "colorbar": {
              "outlinewidth": 0,
              "ticks": ""
             }
            },
            "type": "scatterternary"
           }
          ],
          "surface": [
           {
            "colorbar": {
             "outlinewidth": 0,
             "ticks": ""
            },
            "colorscale": [
             [
              0,
              "#0d0887"
             ],
             [
              0.1111111111111111,
              "#46039f"
             ],
             [
              0.2222222222222222,
              "#7201a8"
             ],
             [
              0.3333333333333333,
              "#9c179e"
             ],
             [
              0.4444444444444444,
              "#bd3786"
             ],
             [
              0.5555555555555556,
              "#d8576b"
             ],
             [
              0.6666666666666666,
              "#ed7953"
             ],
             [
              0.7777777777777778,
              "#fb9f3a"
             ],
             [
              0.8888888888888888,
              "#fdca26"
             ],
             [
              1,
              "#f0f921"
             ]
            ],
            "type": "surface"
           }
          ],
          "table": [
           {
            "cells": {
             "fill": {
              "color": "#EBF0F8"
             },
             "line": {
              "color": "white"
             }
            },
            "header": {
             "fill": {
              "color": "#C8D4E3"
             },
             "line": {
              "color": "white"
             }
            },
            "type": "table"
           }
          ]
         },
         "layout": {
          "annotationdefaults": {
           "arrowcolor": "#2a3f5f",
           "arrowhead": 0,
           "arrowwidth": 1
          },
          "autotypenumbers": "strict",
          "coloraxis": {
           "colorbar": {
            "outlinewidth": 0,
            "ticks": ""
           }
          },
          "colorscale": {
           "diverging": [
            [
             0,
             "#8e0152"
            ],
            [
             0.1,
             "#c51b7d"
            ],
            [
             0.2,
             "#de77ae"
            ],
            [
             0.3,
             "#f1b6da"
            ],
            [
             0.4,
             "#fde0ef"
            ],
            [
             0.5,
             "#f7f7f7"
            ],
            [
             0.6,
             "#e6f5d0"
            ],
            [
             0.7,
             "#b8e186"
            ],
            [
             0.8,
             "#7fbc41"
            ],
            [
             0.9,
             "#4d9221"
            ],
            [
             1,
             "#276419"
            ]
           ],
           "sequential": [
            [
             0,
             "#0d0887"
            ],
            [
             0.1111111111111111,
             "#46039f"
            ],
            [
             0.2222222222222222,
             "#7201a8"
            ],
            [
             0.3333333333333333,
             "#9c179e"
            ],
            [
             0.4444444444444444,
             "#bd3786"
            ],
            [
             0.5555555555555556,
             "#d8576b"
            ],
            [
             0.6666666666666666,
             "#ed7953"
            ],
            [
             0.7777777777777778,
             "#fb9f3a"
            ],
            [
             0.8888888888888888,
             "#fdca26"
            ],
            [
             1,
             "#f0f921"
            ]
           ],
           "sequentialminus": [
            [
             0,
             "#0d0887"
            ],
            [
             0.1111111111111111,
             "#46039f"
            ],
            [
             0.2222222222222222,
             "#7201a8"
            ],
            [
             0.3333333333333333,
             "#9c179e"
            ],
            [
             0.4444444444444444,
             "#bd3786"
            ],
            [
             0.5555555555555556,
             "#d8576b"
            ],
            [
             0.6666666666666666,
             "#ed7953"
            ],
            [
             0.7777777777777778,
             "#fb9f3a"
            ],
            [
             0.8888888888888888,
             "#fdca26"
            ],
            [
             1,
             "#f0f921"
            ]
           ]
          },
          "colorway": [
           "#636efa",
           "#EF553B",
           "#00cc96",
           "#ab63fa",
           "#FFA15A",
           "#19d3f3",
           "#FF6692",
           "#B6E880",
           "#FF97FF",
           "#FECB52"
          ],
          "font": {
           "color": "#2a3f5f"
          },
          "geo": {
           "bgcolor": "white",
           "lakecolor": "white",
           "landcolor": "#E5ECF6",
           "showlakes": true,
           "showland": true,
           "subunitcolor": "white"
          },
          "hoverlabel": {
           "align": "left"
          },
          "hovermode": "closest",
          "mapbox": {
           "style": "light"
          },
          "paper_bgcolor": "white",
          "plot_bgcolor": "#E5ECF6",
          "polar": {
           "angularaxis": {
            "gridcolor": "white",
            "linecolor": "white",
            "ticks": ""
           },
           "bgcolor": "#E5ECF6",
           "radialaxis": {
            "gridcolor": "white",
            "linecolor": "white",
            "ticks": ""
           }
          },
          "scene": {
           "xaxis": {
            "backgroundcolor": "#E5ECF6",
            "gridcolor": "white",
            "gridwidth": 2,
            "linecolor": "white",
            "showbackground": true,
            "ticks": "",
            "zerolinecolor": "white"
           },
           "yaxis": {
            "backgroundcolor": "#E5ECF6",
            "gridcolor": "white",
            "gridwidth": 2,
            "linecolor": "white",
            "showbackground": true,
            "ticks": "",
            "zerolinecolor": "white"
           },
           "zaxis": {
            "backgroundcolor": "#E5ECF6",
            "gridcolor": "white",
            "gridwidth": 2,
            "linecolor": "white",
            "showbackground": true,
            "ticks": "",
            "zerolinecolor": "white"
           }
          },
          "shapedefaults": {
           "line": {
            "color": "#2a3f5f"
           }
          },
          "ternary": {
           "aaxis": {
            "gridcolor": "white",
            "linecolor": "white",
            "ticks": ""
           },
           "baxis": {
            "gridcolor": "white",
            "linecolor": "white",
            "ticks": ""
           },
           "bgcolor": "#E5ECF6",
           "caxis": {
            "gridcolor": "white",
            "linecolor": "white",
            "ticks": ""
           }
          },
          "title": {
           "x": 0.05
          },
          "xaxis": {
           "automargin": true,
           "gridcolor": "white",
           "linecolor": "white",
           "ticks": "",
           "title": {
            "standoff": 15
           },
           "zerolinecolor": "white",
           "zerolinewidth": 2
          },
          "yaxis": {
           "automargin": true,
           "gridcolor": "white",
           "linecolor": "white",
           "ticks": "",
           "title": {
            "standoff": 15
           },
           "zerolinecolor": "white",
           "zerolinewidth": 2
          }
         }
        },
        "title": {
         "text": "ICD-10 Code Distribution by Chapter"
        }
       }
      }
     },
     "metadata": {},
     "output_type": "display_data"
    }
   ],
   "source": [
    "import plotly.express as px\n",
    "import pandas as pd\n",
    "\n",
    "# Count codes per chapter\n",
    "chapter_counts = df_icd[\"ICD_Chapter\"].value_counts().reset_index()\n",
    "chapter_counts.columns = [\"ICD_Chapter\", \"Count\"]\n",
    "\n",
    "# Calculate percentage\n",
    "total = chapter_counts[\"Count\"].sum()\n",
    "chapter_counts[\"Percentage\"] = 100 * chapter_counts[\"Count\"] / total\n",
    "\n",
    "# Custom label: chapter name + percentage (rounded to 1 decimal)\n",
    "chapter_counts[\"Legend_Label\"] = chapter_counts.apply(\n",
    "    lambda row: f\"{row['ICD_Chapter']} ({row['Percentage']:.1f}%)\", axis=1\n",
    ")\n",
    "\n",
    "# Create pie chart (using legend label instead of ICD_Chapter)\n",
    "fig = px.pie(\n",
    "    chapter_counts,\n",
    "    values=\"Count\",\n",
    "    names=\"Legend_Label\",\n",
    "    title=\"ICD-10 Code Distribution by Chapter\",\n",
    "    hole=0.3\n",
    ")\n",
    "\n",
    "# Hide percent in pie chart itself\n",
    "fig.update_traces(hoverinfo='label+percent+name', textinfo='none')\n",
    "\n",
    "# Show plot\n",
    "fig.show()"
   ]
  }
 ],
 "metadata": {
  "kernelspec": {
   "display_name": "di-lab",
   "language": "python",
   "name": "python3"
  },
  "language_info": {
   "codemirror_mode": {
    "name": "ipython",
    "version": 3
   },
   "file_extension": ".py",
   "mimetype": "text/x-python",
   "name": "python",
   "nbconvert_exporter": "python",
   "pygments_lexer": "ipython3",
   "version": "3.10.17"
  }
 },
 "nbformat": 4,
 "nbformat_minor": 2
}
