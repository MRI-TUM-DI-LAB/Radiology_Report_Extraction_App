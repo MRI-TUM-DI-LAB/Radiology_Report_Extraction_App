{
 "cells": [
  {
   "cell_type": "code",
   "execution_count": 1,
   "metadata": {},
   "outputs": [],
   "source": [
    "from rdflib import Graph"
   ]
  },
  {
   "cell_type": "code",
   "execution_count": 2,
   "metadata": {},
   "outputs": [],
   "source": [
    "radlex_owl_path = 'RadLex/data/RadLex.owl'"
   ]
  },
  {
   "cell_type": "markdown",
   "metadata": {},
   "source": [
    "### Loading of the Ontology and transformation into a Directed Graph"
   ]
  },
  {
   "cell_type": "code",
   "execution_count": 3,
   "metadata": {},
   "outputs": [
    {
     "name": "stdout",
     "output_type": "stream",
     "text": [
      "Number of triples: 802105\n"
     ]
    }
   ],
   "source": [
    "g = Graph()\n",
    "g.parse(radlex_owl_path, format=\"xml\")  # OWL is typically RDF/XML\n",
    "\n",
    "print(f\"Number of triples: {len(g)}\")\n",
    "for subj, pred, obj in g[:10]:  # Print first 10 triples\n",
    "    print(subj, pred, obj)"
   ]
  },
  {
   "cell_type": "code",
   "execution_count": 4,
   "metadata": {},
   "outputs": [
    {
     "name": "stdout",
     "output_type": "stream",
     "text": [
      "[BlankNode:N0c310d2] -- owl:onProperty --> radlex:Has_Regional_Part\n",
      "[BlankNode:N2025a12] -- owl:someValuesFrom --> radlex:RID27377\n",
      "radlex:RID939 -- RID:Preferred_name_German --> Arteria mesenterica inferior\n",
      "radlex:RID18861 -- RID:Preferred_name --> root of right thoracic nerve\n",
      "[BlankNode:N90da7fb] -- rdf:rest --> [BlankNode:N8fea7b8]\n",
      "[BlankNode:N8ee88a6] -- owl:onProperty --> radlex:Constitutional_Part_Of\n",
      "[BlankNode:N257aa06] -- owl:annotatedSource --> radlex:RID22704\n",
      "radlex:RID32153 -- rdf:type --> owl:Class\n",
      "radlex:RID855 -- rdfs:subClassOf --> [BlankNode:N3a4f742]\n",
      "radlex:RID44050 -- RID:Has_Regional_Part --> radlex:RID45178\n"
     ]
    }
   ],
   "source": [
    "import rdflib\n",
    "from rdflib import RDF, RDFS, OWL, Namespace\n",
    "from rdflib.term import BNode\n",
    "from itertools import islice\n",
    "\n",
    "RADLEX = Namespace(\"http://www.radlex.org/RID/\")\n",
    "g.bind(\"radlex\", RADLEX)\n",
    "g.bind(\"rdf\", RDF)\n",
    "g.bind(\"rdfs\", RDFS)\n",
    "g.bind(\"owl\", OWL)\n",
    "\n",
    "def format_node(node):\n",
    "    if isinstance(node, BNode):\n",
    "        return f\"[BlankNode:{str(node)[:8]}]\"\n",
    "    elif isinstance(node, rdflib.URIRef):\n",
    "        # Try to use a qname if bound (e.g., radlex:RID47279)\n",
    "        try:\n",
    "            return g.qname(node)\n",
    "        except Exception:\n",
    "            return str(node)\n",
    "    else:\n",
    "        return str(node)\n",
    "\n",
    "for s, p, o in islice(g, 10):\n",
    "    print(f\"{format_node(s)} -- {format_node(p)} --> {format_node(o)}\")"
   ]
  },
  {
   "cell_type": "code",
   "execution_count": 5,
   "metadata": {},
   "outputs": [
    {
     "name": "stdout",
     "output_type": "stream",
     "text": [
      "Number of unique RID codes: 46922\n",
      "Number of RID-to-RID pairs: 134192\n",
      "Number of different relations between RID codes: 57\n",
      "\n",
      "Relations used between RID codes:\n",
      " - RID:Constitutional_Part_Of\n",
      " - RID:Bounds\n",
      " - RID:Has_Blood_Supply\n",
      " - RID:Tributary_Of\n",
      " - RID:Has_Part\n",
      " - RID:Receives_Input_From\n",
      " - rdfs:domain\n",
      " - RID:Projects_To\n",
      " - rdf:type\n",
      " - RID:Projects_From\n",
      " - RID:Replaced_by\n",
      " - rdfs:subClassOf\n",
      " - RID:Sends_Output_To\n",
      " - RID:Segment_Of\n",
      " - rdfs:subPropertyOf\n",
      " - RID:Has_Member\n",
      " - RID:Has_Branch\n",
      " - RID:Lymphatic_Drainage\n",
      " - RID:May_Cause\n",
      " - RID:Has_origin\n",
      " - RID:May_Be_Caused_By\n",
      " - RID:Contained_In\n",
      " - RID:Drains_Into\n",
      " - RID:Receives_Drainage_From\n",
      " - RID:Receives_Projection_From\n",
      " - RID:External_to\n",
      " - RID:Has_Entrapment_Site\n",
      " - rdfs:range\n",
      " - RID:Origin_of\n",
      " - RID:Part_Of\n",
      " - RID:Has_Constitutional_Part\n",
      " - RID:Lymphatic_Drainage_Of\n",
      " - RID:Attaches_to\n",
      " - RID:Distal_to\n",
      " - RID:Surrounded_by\n",
      " - RID:Blood_Supply_of\n",
      " - RID:Posterior_to\n",
      " - RID:Anterior_to\n",
      " - RID:Inferior_to\n",
      " - RID:Bounded_by\n",
      " - RID:Anatomical_Site\n",
      " - RID:Contains\n",
      " - RID:Superior_to\n",
      " - RID:Has_Innervation_Source\n",
      " - RID:Insertion_of\n",
      " - RID:Has_Regional_Part\n",
      " - RID:Innervates\n",
      " - RID:Member_Of\n",
      " - RID:Regional_Part_Of\n",
      " - RID:Receives_attachment_from\n",
      " - RID:Continuous_With\n",
      " - RID:Branch_Of\n",
      " - RID:Related_modality\n",
      " - owl:inverseOf\n",
      " - RID:Has_insertion\n",
      " - RID:Proximal_to\n",
      " - RID:Surrounds\n"
     ]
    }
   ],
   "source": [
    "from rdflib import URIRef\n",
    "\n",
    "RID_PREFIX = \"http://www.radlex.org/RID/\"\n",
    "\n",
    "rid_codes = set()\n",
    "rid_pairs = set()\n",
    "relations_between_rids = set()\n",
    "\n",
    "for s, p, o in g:\n",
    "    s_is_rid = isinstance(s, URIRef) and str(s).startswith(RID_PREFIX) and \"RID\" in str(s)\n",
    "    o_is_rid = isinstance(o, URIRef) and str(o).startswith(RID_PREFIX) and \"RID\" in str(o)\n",
    "    \n",
    "    # Collect individual RID codes\n",
    "    if s_is_rid:\n",
    "        rid_codes.add(s)\n",
    "    if o_is_rid:\n",
    "        rid_codes.add(o)\n",
    "    \n",
    "    # Collect pairs and their relations\n",
    "    if s_is_rid and o_is_rid:\n",
    "        rid_pairs.add((s, o))\n",
    "        relations_between_rids.add(p)\n",
    "\n",
    "# Print the results\n",
    "print(f\"Number of unique RID codes: {len(rid_codes)}\")\n",
    "print(f\"Number of RID-to-RID pairs: {len(rid_pairs)}\")\n",
    "print(f\"Number of different relations between RID codes: {len(relations_between_rids)}\")\n",
    "print(\"\\nRelations used between RID codes:\")\n",
    "for rel in relations_between_rids:\n",
    "    print(f\" - {g.qname(rel)}\")\n"
   ]
  },
  {
   "cell_type": "code",
   "execution_count": 6,
   "metadata": {},
   "outputs": [
    {
     "name": "stdout",
     "output_type": "stream",
     "text": [
      "Number of RID nodes: 46899\n",
      "Number of RID-to-RID edges: 154615\n",
      "http://www.radlex.org/RID/RID44050 --[RID:Has_Regional_Part]--> http://www.radlex.org/RID/RID45178\n",
      "http://www.radlex.org/RID/RID44050 --[RID:Has_Regional_Part]--> http://www.radlex.org/RID/RID21846\n",
      "http://www.radlex.org/RID/RID44050 --[RID:Has_Regional_Part]--> http://www.radlex.org/RID/RID44573\n",
      "http://www.radlex.org/RID/RID44050 --[RID:Has_Regional_Part]--> http://www.radlex.org/RID/RID22880\n",
      "http://www.radlex.org/RID/RID44050 --[RID:Has_Regional_Part]--> http://www.radlex.org/RID/RID22978\n"
     ]
    }
   ],
   "source": [
    "import networkx as nx\n",
    "from rdflib import URIRef\n",
    "\n",
    "RID_PREFIX = \"http://www.radlex.org/RID/\"\n",
    "\n",
    "# Create a directed multigraph\n",
    "G = nx.MultiDiGraph()\n",
    "\n",
    "for s, p, o in g:\n",
    "    s_is_rid = isinstance(s, URIRef) and str(s).startswith(RID_PREFIX) and \"RID\" in str(s)\n",
    "    o_is_rid = isinstance(o, URIRef) and str(o).startswith(RID_PREFIX) and \"RID\" in str(o)\n",
    "\n",
    "    if s_is_rid and o_is_rid:\n",
    "        # Add edge with predicate as label\n",
    "        G.add_edge(str(s), str(o), label=g.qname(p))\n",
    "\n",
    "# Summary info\n",
    "print(f\"Number of RID nodes: {G.number_of_nodes()}\")\n",
    "print(f\"Number of RID-to-RID edges: {G.number_of_edges()}\")\n",
    "\n",
    "# Optional: show first 5 edges\n",
    "for u, v, d in list(G.edges(data=True))[:5]:\n",
    "    print(f\"{u} --[{d['label']}]--> {v}\")"
   ]
  },
  {
   "cell_type": "code",
   "execution_count": 7,
   "metadata": {},
   "outputs": [],
   "source": [
    "G = nx.relabel_nodes(G, lambda x: x.split(\"/\")[-1])"
   ]
  },
  {
   "cell_type": "code",
   "execution_count": 8,
   "metadata": {},
   "outputs": [
    {
     "name": "stdout",
     "output_type": "stream",
     "text": [
      "46899 154615\n"
     ]
    }
   ],
   "source": [
    "print(len(G.nodes), len(G.edges))"
   ]
  },
  {
   "cell_type": "code",
   "execution_count": 30,
   "metadata": {},
   "outputs": [],
   "source": [
    "import networkx as nx\n",
    "import pandas as pd\n",
    "\n",
    "# Load your CSV file\n",
    "df = pd.read_csv(\"data/d_radlex_entities.csv\")  # Adjust path if necessary\n",
    "\n",
    "# Create a dictionary: code → preferred description\n",
    "desc_map = dict(zip(df['radlex_code'], df['preferred_description']))\n",
    "\n",
    "# Add the description as an attribute to each node in the graph\n",
    "for node in G.nodes():\n",
    "    if node in desc_map:\n",
    "        G.nodes[node]['description'] = desc_map[node]\n",
    "    else:\n",
    "        G.nodes[node]['description'] = \"(no description)\""
   ]
  },
  {
   "cell_type": "markdown",
   "metadata": {},
   "source": [
    "### Check that the node 'RID1' is indeed a parent node in the ontology"
   ]
  },
  {
   "cell_type": "code",
   "execution_count": 9,
   "metadata": {},
   "outputs": [
    {
     "name": "stdout",
     "output_type": "stream",
     "text": [
      "✅ Node 'RID1' exists in the graph.\n"
     ]
    }
   ],
   "source": [
    "if 'RID1' in G:\n",
    "    print(\"✅ Node 'RID1' exists in the graph.\")\n",
    "else:\n",
    "    print(\"❌ Node 'RID1' does NOT exist in the graph.\")"
   ]
  },
  {
   "cell_type": "code",
   "execution_count": 10,
   "metadata": {},
   "outputs": [
    {
     "name": "stdout",
     "output_type": "stream",
     "text": [
      "❌ RID1 is NOT a parent node. 46897 node(s) are unreachable from RID1.\n",
      "Examples of unreachable nodes: ['RID49319', 'RID41268', 'RID41235', 'RID12786', 'RID47277', 'RID16418', 'RID45952', 'RID34875', 'RID34836', 'RID10778']\n"
     ]
    }
   ],
   "source": [
    "# Get the set of all nodes reachable from RID1 (including itself)\n",
    "reachable_from_rid1 = nx.descendants(G, 'RID1')\n",
    "reachable_from_rid1.add('RID1')  # Include RID1 itself\n",
    "\n",
    "# Compare with the full set of nodes in G\n",
    "all_nodes = set(G.nodes())\n",
    "\n",
    "# Check if RID1 reaches all nodes\n",
    "if reachable_from_rid1 == all_nodes:\n",
    "    print(\"✅ RID1 is a parent node — all nodes are reachable from it.\")\n",
    "else:\n",
    "    missing = all_nodes - reachable_from_rid1\n",
    "    print(f\"❌ RID1 is NOT a parent node. {len(missing)} node(s) are unreachable from RID1.\")\n",
    "    # Optionally print a few missing ones\n",
    "    print(\"Examples of unreachable nodes:\", list(missing)[:10])"
   ]
  },
  {
   "cell_type": "code",
   "execution_count": 11,
   "metadata": {},
   "outputs": [
    {
     "data": {
      "text/plain": [
       "{'RID0', 'RID1'}"
      ]
     },
     "execution_count": 11,
     "metadata": {},
     "output_type": "execute_result"
    }
   ],
   "source": [
    "reachable_from_rid1"
   ]
  },
  {
   "cell_type": "code",
   "execution_count": 12,
   "metadata": {},
   "outputs": [
    {
     "name": "stdout",
     "output_type": "stream",
     "text": [
      "✅ Edges OUTGOING from RID1 (1 edges):\n",
      "RID1 --[rdfs:subClassOf]--> RID0\n",
      "\n",
      "✅ Edges INCOMING to RID1 (18 edges):\n",
      "RID6 --[rdfs:subClassOf]--> RID1\n",
      "RID1559 --[rdfs:subClassOf]--> RID1\n",
      "RID49573 --[rdfs:subClassOf]--> RID1\n",
      "RID5 --[rdfs:subClassOf]--> RID1\n",
      "RID34785 --[rdfs:subClassOf]--> RID1\n",
      "RID3 --[rdfs:subClassOf]--> RID1\n",
      "RID39128 --[rdfs:subClassOf]--> RID1\n",
      "RID35977 --[rdfs:subClassOf]--> RID1\n",
      "RID7479 --[rdfs:subClassOf]--> RID1\n",
      "RID34861 --[rdfs:subClassOf]--> RID1\n",
      "RID7467 --[rdfs:subClassOf]--> RID1\n",
      "Receives_Input_From --[rdfs:range]--> RID1\n",
      "RID13158 --[rdfs:subClassOf]--> RID1\n",
      "RID28487 --[rdfs:subClassOf]--> RID1\n",
      "RID28639 --[rdfs:subClassOf]--> RID1\n",
      "RID50606 --[rdfs:subClassOf]--> RID1\n",
      "Sends_Output_To --[rdfs:range]--> RID1\n",
      "Member_Of --[rdfs:range]--> RID1\n"
     ]
    }
   ],
   "source": [
    "if 'RID1' not in G:\n",
    "    print(\"❌ Node 'RID1' does not exist in the graph.\")\n",
    "else:\n",
    "    print(f\"✅ Edges OUTGOING from RID1 ({G.out_degree('RID1')} edges):\")\n",
    "    for _, target, data in G.out_edges('RID1', data=True):\n",
    "        print(f\"RID1 --[{data.get('label', '⟶')}]--> {target}\")\n",
    "\n",
    "    print(f\"\\n✅ Edges INCOMING to RID1 ({G.in_degree('RID1')} edges):\")\n",
    "    for source, _, data in G.in_edges('RID1', data=True):\n",
    "        print(f\"{source} --[{data.get('label', '⟶')}]--> RID1\")"
   ]
  },
  {
   "cell_type": "code",
   "execution_count": 13,
   "metadata": {},
   "outputs": [],
   "source": [
    "# Create a reversed hierarchy graph\n",
    "H_hierarchy = nx.DiGraph()\n",
    "\n",
    "for u, v, d in G.edges(data=True):\n",
    "    if d.get('label') == 'rdfs:subClassOf':\n",
    "        H_hierarchy.add_edge(v, u)  # Reverse the edge: parent --> child"
   ]
  },
  {
   "cell_type": "code",
   "execution_count": 14,
   "metadata": {},
   "outputs": [
    {
     "name": "stdout",
     "output_type": "stream",
     "text": [
      "RID1 has 45898 subclass descendants.\n"
     ]
    }
   ],
   "source": [
    "descendants = nx.descendants(H_hierarchy, 'RID1')\n",
    "print(f\"RID1 has {len(descendants)} subclass descendants.\")"
   ]
  },
  {
   "cell_type": "markdown",
   "metadata": {},
   "source": [
    "### Try to extract subgraph corresponding to codes from a sample report"
   ]
  },
  {
   "cell_type": "code",
   "execution_count": 15,
   "metadata": {},
   "outputs": [],
   "source": [
    "codes = ['RID908', 'RID5619', 'RID5622', 'RID10404', 'RID10326', 'RID29991', 'RID5611', 'RID5576', 'RID1543']"
   ]
  },
  {
   "cell_type": "code",
   "execution_count": 16,
   "metadata": {},
   "outputs": [
    {
     "name": "stdout",
     "output_type": "stream",
     "text": [
      "Subgraph has 35 nodes and 98 edges.\n"
     ]
    }
   ],
   "source": [
    "# Create a set to store all nodes involved in paths between any two of the codes\n",
    "nodes_in_paths = set()\n",
    "\n",
    "# For each pair of codes, find all simple paths (can be adjusted to shortest if needed)\n",
    "for i in range(len(codes)):\n",
    "    for j in range(i + 1, len(codes)):\n",
    "        source = codes[i]\n",
    "        target = codes[j]\n",
    "        try:\n",
    "            # Get the shortest path (you can change to `all_simple_paths` if needed)\n",
    "            path = nx.shortest_path(G, source=source, target=target)\n",
    "            nodes_in_paths.update(path)\n",
    "        except nx.NetworkXNoPath:\n",
    "            pass  # No path found between this pair\n",
    "\n",
    "# Induce subgraph\n",
    "H = G.subgraph(nodes_in_paths).copy()\n",
    "\n",
    "print(f\"Subgraph has {H.number_of_nodes()} nodes and {H.number_of_edges()} edges.\")\n",
    "\n",
    "# Optional: Save or visualize\n",
    "# nx.write_gexf(H, \"rid_subgraph.gexf\")"
   ]
  },
  {
   "cell_type": "code",
   "execution_count": 17,
   "metadata": {},
   "outputs": [
    {
     "name": "stdout",
     "output_type": "stream",
     "text": [
      "Warning: When  cdn_resources is 'local' jupyter notebook has issues displaying graphics on chrome/safari. Use cdn_resources='in_line' or cdn_resources='remote' if you have issues viewing graphics in a notebook.\n"
     ]
    }
   ],
   "source": [
    "from pyvis.network import Network\n",
    "\n",
    "# Create a PyVis network\n",
    "net = Network(height=\"700px\", width=\"100%\", directed=True, notebook=True)\n",
    "\n",
    "# Add nodes with color: blue for target codes, gray otherwise\n",
    "for node in H.nodes():\n",
    "    if node in codes:\n",
    "        net.add_node(node, label=node, color='skyblue', shape='dot', size=25)\n",
    "    else:\n",
    "        net.add_node(node, label=node, color='lightgray', shape='dot', size=10)\n",
    "\n",
    "# Add edges with labels\n",
    "for u, v, d in H.edges(data=True):\n",
    "    label = d.get('label', '')\n",
    "    net.add_edge(u, v, label=label, arrows=\"to\")\n",
    "\n",
    "# Improve layout\n",
    "net.repulsion(node_distance=150, spring_length=200)\n",
    "\n",
    "# Show the network (in notebook or open as HTML)\n",
    "# net.show(\"data/output/rid_subgraph.html\")"
   ]
  },
  {
   "cell_type": "markdown",
   "metadata": {},
   "source": [
    "### Simplify graph for display"
   ]
  },
  {
   "cell_type": "code",
   "execution_count": 18,
   "metadata": {},
   "outputs": [],
   "source": [
    "def simplify_graph_for_display(H):\n",
    "    simplified = nx.DiGraph()\n",
    "\n",
    "    seen_pairs = set()\n",
    "    \n",
    "    for u, v, d in H.edges(data=True):\n",
    "        if u == v:\n",
    "            continue  # Exclude self-loops\n",
    "\n",
    "        # Create an unordered key to detect bidirectional pairs\n",
    "        pair = tuple(sorted((u, v)))\n",
    "        \n",
    "        if pair in seen_pairs:\n",
    "            continue  # We've already added one direction\n",
    "        seen_pairs.add(pair)\n",
    "\n",
    "        # Add the edge in the current direction\n",
    "        simplified.add_edge(u, v, label=d.get('label'))\n",
    "\n",
    "    return simplified"
   ]
  },
  {
   "cell_type": "code",
   "execution_count": 19,
   "metadata": {},
   "outputs": [],
   "source": [
    "# Usage:\n",
    "cleaned_G = simplify_graph_for_display(H)"
   ]
  },
  {
   "cell_type": "code",
   "execution_count": 20,
   "metadata": {},
   "outputs": [
    {
     "name": "stdout",
     "output_type": "stream",
     "text": [
      "Warning: When  cdn_resources is 'local' jupyter notebook has issues displaying graphics on chrome/safari. Use cdn_resources='in_line' or cdn_resources='remote' if you have issues viewing graphics in a notebook.\n"
     ]
    }
   ],
   "source": [
    "from pyvis.network import Network\n",
    "\n",
    "net = Network(height=\"700px\", width=\"100%\", directed=True, notebook=True)\n",
    "\n",
    "for node in cleaned_G.nodes():\n",
    "    net.add_node(node, label=node)\n",
    "\n",
    "for u, v, d in cleaned_G.edges(data=True):\n",
    "    net.add_edge(u, v, label=d.get('label', ''))\n",
    "\n",
    "net.repulsion(node_distance=150, spring_length=200)\n",
    "# net.show(\"data/output/cleaned_rid_graph.html\")"
   ]
  },
  {
   "cell_type": "markdown",
   "metadata": {},
   "source": [
    "### Add these modifications in the cleaning of the graph for the subgraph with relevant codes"
   ]
  },
  {
   "cell_type": "code",
   "execution_count": 31,
   "metadata": {},
   "outputs": [
    {
     "name": "stdout",
     "output_type": "stream",
     "text": [
      "Warning: When  cdn_resources is 'local' jupyter notebook has issues displaying graphics on chrome/safari. Use cdn_resources='in_line' or cdn_resources='remote' if you have issues viewing graphics in a notebook.\n",
      "data/output/cleaned_subgraph.html\n"
     ]
    },
    {
     "data": {
      "text/html": [
       "\n",
       "        <iframe\n",
       "            width=\"100%\"\n",
       "            height=\"700px\"\n",
       "            src=\"data/output/cleaned_subgraph.html\"\n",
       "            frameborder=\"0\"\n",
       "            allowfullscreen\n",
       "            \n",
       "        ></iframe>\n",
       "        "
      ],
      "text/plain": [
       "<IPython.lib.display.IFrame at 0x14ac19870>"
      ]
     },
     "execution_count": 31,
     "metadata": {},
     "output_type": "execute_result"
    }
   ],
   "source": [
    "import networkx as nx\n",
    "from pyvis.network import Network\n",
    "from itertools import combinations\n",
    "\n",
    "codes = ['RID908', 'RID5619', 'RID5622', 'RID10404', 'RID10326', 'RID29991', 'RID5611', 'RID5576', 'RID1543']\n",
    "\n",
    "# --- Step 1: Extract subgraph containing all paths between any pair of codes ---\n",
    "\n",
    "nodes_to_include = set(codes)\n",
    "\n",
    "# For every pair of codes, include all nodes on shortest paths between them (if paths exist)\n",
    "for u, v in combinations(codes, 2):\n",
    "    if nx.has_path(G, u, v):\n",
    "        path_nodes = nx.shortest_path(G, u, v)\n",
    "        nodes_to_include.update(path_nodes)\n",
    "    if nx.has_path(G, v, u):\n",
    "        path_nodes = nx.shortest_path(G, v, u)\n",
    "        nodes_to_include.update(path_nodes)\n",
    "\n",
    "H_sub = G.subgraph(nodes_to_include).copy()\n",
    "\n",
    "# --- Step 2: Create hierarchy graph with reversed rdfs:subClassOf edges ---\n",
    "\n",
    "H_hierarchy = nx.DiGraph()\n",
    "\n",
    "for u, v, d in H_sub.edges(data=True):\n",
    "    if d.get('label') == 'rdfs:subClassOf':\n",
    "        H_hierarchy.add_edge(v, u, label='rdfs:has_subClass')  # reversed edge\n",
    "    else:\n",
    "        H_hierarchy.add_edge(u, v, label=d.get('label'))\n",
    "\n",
    "# --- Step 3: Clean graph by removing self-loops and reciprocal edges ---\n",
    "\n",
    "def simplify_graph_for_display(G):\n",
    "    simplified = nx.DiGraph()\n",
    "    seen_pairs = set()\n",
    "    for u, v, d in G.edges(data=True):\n",
    "        if u == v:\n",
    "            continue  # remove self-loops\n",
    "        pair = tuple(sorted((u, v)))\n",
    "        if pair in seen_pairs:\n",
    "            continue  # remove reciprocal edge (keep first encountered)\n",
    "        seen_pairs.add(pair)\n",
    "        simplified.add_edge(u, v, label=d.get('label'))\n",
    "    return simplified\n",
    "\n",
    "cleaned_H = simplify_graph_for_display(H_hierarchy)\n",
    "\n",
    "# --- Step 4: Visualize with pyvis ---\n",
    "\n",
    "net = Network(height=\"700px\", width=\"100%\", directed=True, notebook=True)\n",
    "\n",
    "for node in cleaned_H.nodes():\n",
    "    color = 'skyblue' if node in codes else 'lightgray'\n",
    "    size = 25 if node in codes else 10\n",
    "    label = node\n",
    "    title = G.nodes[node].get('description', '')  # Tooltip on hover\n",
    "    net.add_node(node, label=label, title=title, color=color, size=size)\n",
    "\n",
    "for u, v, d in cleaned_H.edges(data=True):\n",
    "    net.add_edge(u, v, label=d.get('label', ''))\n",
    "\n",
    "net.repulsion(node_distance=150, spring_length=200)\n",
    "net.show(\"data/output/cleaned_subgraph.html\")\n"
   ]
  },
  {
   "cell_type": "code",
   "execution_count": 22,
   "metadata": {},
   "outputs": [],
   "source": [
    "# Step 2a: Reverse subClassOf edges in a new graph for path computation\n",
    "G_reversed = nx.DiGraph()\n",
    "\n",
    "for u, v, d in G.edges(data=True):\n",
    "    if d.get('label') == 'rdfs:subClassOf':\n",
    "        G_reversed.add_edge(v, u, **d)  # reverse the edge\n",
    "    else:\n",
    "        G_reversed.add_edge(u, v, **d)"
   ]
  },
  {
   "cell_type": "code",
   "execution_count": 23,
   "metadata": {},
   "outputs": [
    {
     "name": "stdout",
     "output_type": "stream",
     "text": [
      "RID908 True\n",
      "['RID1', 'RID5', 'RID29023', 'RID35563', 'RID936', 'RID13183', 'RID908']\n",
      "RID5619 True\n",
      "['RID1', 'RID34861', 'RID5425', 'RID5618', 'RID5619']\n",
      "RID5622 True\n",
      "['RID1', 'RID34861', 'RID5425', 'RID5618', 'RID5622']\n",
      "RID10404 True\n",
      "['RID1', 'RID1559', 'RID8', 'RID10404']\n",
      "RID10326 True\n",
      "['RID1', 'RID50606', 'RID10311', 'RID10326']\n",
      "RID29991 True\n",
      "['RID1', 'RID5', 'RID29023', 'RID35313', 'RID2484', 'RID29991']\n",
      "RID5611 True\n",
      "['RID1', 'RID34861', 'RID29038', 'RID29033', 'RID5599', 'RID5610', 'RID5611']\n",
      "RID5576 True\n",
      "['RID1', 'RID34861', 'RID29038', 'RID29033', 'RID5429', 'RID5554', 'RID5576']\n",
      "RID1543 True\n",
      "['RID1', 'RID3', 'RID13389', 'RID29109', 'RID1540', 'RID38626', 'RID1543']\n"
     ]
    }
   ],
   "source": [
    "root = 'RID1'\n",
    "\n",
    "for code in codes:\n",
    "    print(code, nx.has_path(G_reversed, root, code))\n",
    "    print(nx.shortest_path(G_reversed, root, code))"
   ]
  },
  {
   "cell_type": "code",
   "execution_count": 24,
   "metadata": {},
   "outputs": [
    {
     "data": {
      "text/plain": [
       "46899"
      ]
     },
     "execution_count": 24,
     "metadata": {},
     "output_type": "execute_result"
    }
   ],
   "source": [
    "len(G)"
   ]
  },
  {
   "cell_type": "code",
   "execution_count": 25,
   "metadata": {},
   "outputs": [
    {
     "data": {
      "text/plain": [
       "154615"
      ]
     },
     "execution_count": 25,
     "metadata": {},
     "output_type": "execute_result"
    }
   ],
   "source": [
    "len(G.edges())"
   ]
  },
  {
   "cell_type": "markdown",
   "metadata": {},
   "source": [
    "### Alternative plot: DAG/Hierarchical format starting from parent node 'RID1'"
   ]
  },
  {
   "cell_type": "code",
   "execution_count": 26,
   "metadata": {},
   "outputs": [],
   "source": [
    "# Create a reversed hierarchy graph\n",
    "H_hierarchy = nx.DiGraph()\n",
    "\n",
    "for u, v, d in G.edges(data=True):\n",
    "    if d.get('label') == 'rdfs:subClassOf':\n",
    "        H_hierarchy.add_edge(v, u)  # Reverse the edge: parent --> child"
   ]
  },
  {
   "cell_type": "code",
   "execution_count": 33,
   "metadata": {},
   "outputs": [
    {
     "name": "stdout",
     "output_type": "stream",
     "text": [
      "Warning: When  cdn_resources is 'local' jupyter notebook has issues displaying graphics on chrome/safari. Use cdn_resources='in_line' or cdn_resources='remote' if you have issues viewing graphics in a notebook.\n",
      "data/output/final_graph.html\n"
     ]
    },
    {
     "data": {
      "text/html": [
       "\n",
       "        <iframe\n",
       "            width=\"100%\"\n",
       "            height=\"700px\"\n",
       "            src=\"data/output/final_graph.html\"\n",
       "            frameborder=\"0\"\n",
       "            allowfullscreen\n",
       "            \n",
       "        ></iframe>\n",
       "        "
      ],
      "text/plain": [
       "<IPython.lib.display.IFrame at 0x127942320>"
      ]
     },
     "execution_count": 33,
     "metadata": {},
     "output_type": "execute_result"
    }
   ],
   "source": [
    "import networkx as nx\n",
    "from pyvis.network import Network\n",
    "from itertools import combinations\n",
    "\n",
    "codes = ['RID908', 'RID5619', 'RID5622', 'RID10404', 'RID10326', 'RID29991', 'RID5611', 'RID5576', 'RID1543']\n",
    "root = 'RID1'\n",
    "\n",
    "# --- Step 1: Extract subgraph containing all paths between any pair of codes ---\n",
    "\n",
    "nodes_to_include = set(codes)\n",
    "\n",
    "# For every pair of codes, include all nodes on shortest paths between them (if paths exist)\n",
    "for u, v in combinations(codes, 2):\n",
    "    if nx.has_path(G, u, v):\n",
    "        path_nodes = nx.shortest_path(G, u, v)\n",
    "        nodes_to_include.update(path_nodes)\n",
    "    if nx.has_path(G, v, u):\n",
    "        path_nodes = nx.shortest_path(G, v, u)\n",
    "        nodes_to_include.update(path_nodes)\n",
    "\n",
    "H_sub = G.subgraph(nodes_to_include).copy()\n",
    "\n",
    "# --- Step 2: Create hierarchy graph with reversed rdfs:subClassOf edges ---\n",
    "\n",
    "H_hierarchy = nx.DiGraph()\n",
    "\n",
    "for u, v, d in H_sub.edges(data=True):\n",
    "    if d.get('label') == 'rdfs:subClassOf':\n",
    "        H_hierarchy.add_edge(v, u, label='rdfs:subClassOf')  # reversed edge\n",
    "    else:\n",
    "        H_hierarchy.add_edge(u, v, label=d.get('label'))\n",
    "\n",
    "# --- Step 3: Clean graph by removing self-loops and reciprocal edges ---\n",
    "\n",
    "def simplify_graph_for_display(G):\n",
    "    simplified = nx.DiGraph()\n",
    "    seen_pairs = set()\n",
    "    for u, v, d in G.edges(data=True):\n",
    "        if u == v:\n",
    "            continue  # remove self-loops\n",
    "        pair = tuple(sorted((u, v)))\n",
    "        if pair in seen_pairs:\n",
    "            continue  # remove reciprocal edge (keep first encountered)\n",
    "        seen_pairs.add(pair)\n",
    "        simplified.add_edge(u, v, label=d.get('label'))\n",
    "    return simplified\n",
    "\n",
    "cleaned_H = simplify_graph_for_display(H_hierarchy)\n",
    "\n",
    "# --- Step 4: Add shortest paths from RID1 to each code (from full ontology G) ---\n",
    "\n",
    "# Build reverse subclass-only graph for proper path traversal\n",
    "G_rev_sub = nx.DiGraph()\n",
    "for u, v, d in G.edges(data=True):\n",
    "    if d.get('label') == 'rdfs:subClassOf':\n",
    "        G_rev_sub.add_edge(v, u, label='rdfs:subClassOf')  # reversed\n",
    "\n",
    "# Track edges in shortest paths for special styling\n",
    "highlight_edges = set()\n",
    "\n",
    "for code in codes:\n",
    "    if nx.has_path(G_rev_sub, root, code):\n",
    "        path = nx.shortest_path(G_rev_sub, root, code)\n",
    "        for i in range(len(path) - 1):\n",
    "            u, v = path[i], path[i+1]\n",
    "            cleaned_H.add_edge(u, v, label='rdfs:subClassOf')\n",
    "            highlight_edges.add((u, v))\n",
    "        for node in path:\n",
    "            cleaned_H.add_node(node)  # ensure all path nodes are included\n",
    "\n",
    "# --- Step 5: Visualize with pyvis ---\n",
    "\n",
    "net = Network(height=\"700px\", width=\"100%\", directed=True, notebook=True)\n",
    "\n",
    "for node in cleaned_H.nodes():\n",
    "    if node == root:\n",
    "        color = 'orange'\n",
    "        size = 30\n",
    "    elif node in codes:\n",
    "        color = 'skyblue'\n",
    "        size = 25\n",
    "    else:\n",
    "        color = 'lightgray'\n",
    "        size = 10\n",
    "    label = node\n",
    "    title = G.nodes[node].get('description', '')  # Tooltip on hover\n",
    "    net.add_node(node, label=label, title=title, color=color, size=size)\n",
    "\n",
    "for u, v, d in cleaned_H.edges(data=True):\n",
    "    color = 'black' if (u, v) in highlight_edges else '#cccccc'\n",
    "    net.add_edge(u, v, label=d.get('label', ''), color=color)\n",
    "\n",
    "net.repulsion(node_distance=150, spring_length=200)\n",
    "net.show(\"data/output/final_graph.html\")"
   ]
  },
  {
   "cell_type": "code",
   "execution_count": null,
   "metadata": {},
   "outputs": [],
   "source": []
  },
  {
   "cell_type": "code",
   "execution_count": null,
   "metadata": {},
   "outputs": [],
   "source": []
  },
  {
   "cell_type": "code",
   "execution_count": null,
   "metadata": {},
   "outputs": [],
   "source": []
  },
  {
   "cell_type": "code",
   "execution_count": null,
   "metadata": {},
   "outputs": [],
   "source": []
  },
  {
   "cell_type": "code",
   "execution_count": null,
   "metadata": {},
   "outputs": [],
   "source": []
  },
  {
   "cell_type": "code",
   "execution_count": 34,
   "metadata": {},
   "outputs": [
    {
     "name": "stdout",
     "output_type": "stream",
     "text": [
      "Warning: When  cdn_resources is 'local' jupyter notebook has issues displaying graphics on chrome/safari. Use cdn_resources='in_line' or cdn_resources='remote' if you have issues viewing graphics in a notebook.\n",
      "data/output/with_paths_to_RID1.html\n"
     ]
    },
    {
     "data": {
      "text/html": [
       "\n",
       "        <iframe\n",
       "            width=\"100%\"\n",
       "            height=\"700px\"\n",
       "            src=\"data/output/with_paths_to_RID1.html\"\n",
       "            frameborder=\"0\"\n",
       "            allowfullscreen\n",
       "            \n",
       "        ></iframe>\n",
       "        "
      ],
      "text/plain": [
       "<IPython.lib.display.IFrame at 0x14f61dc30>"
      ]
     },
     "execution_count": 34,
     "metadata": {},
     "output_type": "execute_result"
    }
   ],
   "source": [
    "import networkx as nx\n",
    "from pyvis.network import Network\n",
    "from itertools import combinations\n",
    "\n",
    "codes = ['RID908', 'RID5619', 'RID5622', 'RID10404', 'RID10326', 'RID29991', 'RID5611', 'RID5576', 'RID1543']\n",
    "root = 'RID1'\n",
    "\n",
    "# --- Step 1: Extract subgraph containing all paths between any pair of codes ---\n",
    "\n",
    "nodes_to_include = set(codes)\n",
    "\n",
    "# For every pair of codes, include all nodes on shortest paths between them (if paths exist)\n",
    "for u, v in combinations(codes, 2):\n",
    "    if nx.has_path(G, u, v):\n",
    "        path_nodes = nx.shortest_path(G, u, v)\n",
    "        nodes_to_include.update(path_nodes)\n",
    "    if nx.has_path(G, v, u):\n",
    "        path_nodes = nx.shortest_path(G, v, u)\n",
    "        nodes_to_include.update(path_nodes)\n",
    "\n",
    "H_sub = G.subgraph(nodes_to_include).copy()\n",
    "\n",
    "# --- Step 2: Create hierarchy graph with reversed rdfs:subClassOf edges ---\n",
    "\n",
    "H_hierarchy = nx.DiGraph()\n",
    "\n",
    "for u, v, d in H_sub.edges(data=True):\n",
    "    if d.get('label') == 'rdfs:subClassOf':\n",
    "        H_hierarchy.add_edge(v, u, label='rdfs:subClassOf')  # reversed edge\n",
    "    else:\n",
    "        H_hierarchy.add_edge(u, v, label=d.get('label'))\n",
    "\n",
    "# --- Step 3: Clean graph by removing self-loops and reciprocal edges ---\n",
    "\n",
    "def simplify_graph_for_display(G):\n",
    "    simplified = nx.DiGraph()\n",
    "    seen_pairs = set()\n",
    "    for u, v, d in G.edges(data=True):\n",
    "        if u == v:\n",
    "            continue  # remove self-loops\n",
    "        pair = tuple(sorted((u, v)))\n",
    "        if pair in seen_pairs:\n",
    "            continue  # remove reciprocal edge (keep first encountered)\n",
    "        seen_pairs.add(pair)\n",
    "        simplified.add_edge(u, v, label=d.get('label'))\n",
    "    return simplified\n",
    "\n",
    "cleaned_H = simplify_graph_for_display(H_hierarchy)\n",
    "\n",
    "# --- Step 4: Add shortest paths from RID1 to each code (from full ontology G) ---\n",
    "\n",
    "# Build reverse subclass-only graph for proper path traversal\n",
    "G_rev_sub = nx.DiGraph()\n",
    "for u, v, d in G.edges(data=True):\n",
    "    if d.get('label') == 'rdfs:subClassOf':\n",
    "        G_rev_sub.add_edge(v, u, label='rdfs:subClassOf')  # reversed\n",
    "\n",
    "# Track edges in shortest paths for special styling\n",
    "highlight_edges = set()\n",
    "\n",
    "for code in codes:\n",
    "    if nx.has_path(G_rev_sub, root, code):\n",
    "        path = nx.shortest_path(G_rev_sub, root, code)\n",
    "        for i in range(len(path) - 1):\n",
    "            u, v = path[i], path[i+1]\n",
    "            cleaned_H.add_edge(u, v, label='rdfs:subClassOf')\n",
    "            highlight_edges.add((u, v))\n",
    "        for node in path:\n",
    "            cleaned_H.add_node(node)  # ensure all path nodes are included\n",
    "\n",
    "# --- Step 5: Visualize with pyvis ---\n",
    "\n",
    "net = Network(height=\"700px\", width=\"100%\", directed=True, notebook=True)\n",
    "\n",
    "for node in cleaned_H.nodes():\n",
    "    if node == root:\n",
    "        color = 'orange'\n",
    "        size = 30\n",
    "    elif node in codes:\n",
    "        color = 'skyblue'\n",
    "        size = 25\n",
    "    else:\n",
    "        color = 'lightgray'\n",
    "        size = 10\n",
    "    net.add_node(node, label=node, color=color, size=size)\n",
    "\n",
    "for u, v, d in cleaned_H.edges(data=True):\n",
    "    color = 'black' if (u, v) in highlight_edges else '#cccccc'\n",
    "    net.add_edge(u, v, label=d.get('label', ''), color=color)\n",
    "\n",
    "net.repulsion(node_distance=150, spring_length=200)\n",
    "net.show(\"data/output/with_paths_to_RID1.html\")"
   ]
  },
  {
   "cell_type": "code",
   "execution_count": null,
   "metadata": {},
   "outputs": [],
   "source": []
  }
 ],
 "metadata": {
  "kernelspec": {
   "display_name": "di-lab",
   "language": "python",
   "name": "python3"
  },
  "language_info": {
   "codemirror_mode": {
    "name": "ipython",
    "version": 3
   },
   "file_extension": ".py",
   "mimetype": "text/x-python",
   "name": "python",
   "nbconvert_exporter": "python",
   "pygments_lexer": "ipython3",
   "version": "3.10.17"
  }
 },
 "nbformat": 4,
 "nbformat_minor": 2
}
