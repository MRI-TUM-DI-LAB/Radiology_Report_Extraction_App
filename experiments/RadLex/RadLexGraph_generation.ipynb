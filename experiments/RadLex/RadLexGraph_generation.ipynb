{
 "cells": [
  {
   "cell_type": "code",
   "execution_count": 1,
   "metadata": {},
   "outputs": [],
   "source": [
    "from rdflib import Graph"
   ]
  },
  {
   "cell_type": "code",
   "execution_count": 2,
   "metadata": {},
   "outputs": [],
   "source": [
    "radlex_owl_path = 'RadLex/data/RadLex.owl'"
   ]
  },
  {
   "cell_type": "markdown",
   "metadata": {},
   "source": [
    "### Loading of the Ontology and transformation into a Directed Graph"
   ]
  },
  {
   "cell_type": "code",
   "execution_count": null,
   "metadata": {},
   "outputs": [],
   "source": [
    "g = Graph()\n",
    "g.parse(radlex_owl_path, format=\"xml\")  # OWL is typically RDF/XML\n",
    "\n",
    "print(f\"Number of triples: {len(g)}\")\n",
    "for subj, pred, obj in g[:10]:  # Print first 10 triples\n",
    "    print(subj, pred, obj)"
   ]
  },
  {
   "cell_type": "code",
   "execution_count": null,
   "metadata": {},
   "outputs": [],
   "source": [
    "import rdflib\n",
    "from rdflib import RDF, RDFS, OWL, Namespace\n",
    "from rdflib.term import BNode\n",
    "from itertools import islice\n",
    "\n",
    "RADLEX = Namespace(\"http://www.radlex.org/RID/\")\n",
    "g.bind(\"radlex\", RADLEX)\n",
    "g.bind(\"rdf\", RDF)\n",
    "g.bind(\"rdfs\", RDFS)\n",
    "g.bind(\"owl\", OWL)\n",
    "\n",
    "def format_node(node):\n",
    "    if isinstance(node, BNode):\n",
    "        return f\"[BlankNode:{str(node)[:8]}]\"\n",
    "    elif isinstance(node, rdflib.URIRef):\n",
    "        # Try to use a qname if bound (e.g., radlex:RID47279)\n",
    "        try:\n",
    "            return g.qname(node)\n",
    "        except Exception:\n",
    "            return str(node)\n",
    "    else:\n",
    "        return str(node)\n",
    "\n",
    "for s, p, o in islice(g, 10):\n",
    "    print(f\"{format_node(s)} -- {format_node(p)} --> {format_node(o)}\")"
   ]
  },
  {
   "cell_type": "code",
   "execution_count": null,
   "metadata": {},
   "outputs": [],
   "source": [
    "from rdflib import URIRef\n",
    "\n",
    "RID_PREFIX = \"http://www.radlex.org/RID/\"\n",
    "\n",
    "rid_codes = set()\n",
    "rid_pairs = set()\n",
    "relations_between_rids = set()\n",
    "\n",
    "for s, p, o in g:\n",
    "    s_is_rid = isinstance(s, URIRef) and str(s).startswith(RID_PREFIX) and \"RID\" in str(s)\n",
    "    o_is_rid = isinstance(o, URIRef) and str(o).startswith(RID_PREFIX) and \"RID\" in str(o)\n",
    "    \n",
    "    # Collect individual RID codes\n",
    "    if s_is_rid:\n",
    "        rid_codes.add(s)\n",
    "    if o_is_rid:\n",
    "        rid_codes.add(o)\n",
    "    \n",
    "    # Collect pairs and their relations\n",
    "    if s_is_rid and o_is_rid:\n",
    "        rid_pairs.add((s, o))\n",
    "        relations_between_rids.add(p)\n",
    "\n",
    "# Print the results\n",
    "print(f\"Number of unique RID codes: {len(rid_codes)}\")\n",
    "print(f\"Number of RID-to-RID pairs: {len(rid_pairs)}\")\n",
    "print(f\"Number of different relations between RID codes: {len(relations_between_rids)}\")\n",
    "print(\"\\nRelations used between RID codes:\")\n",
    "for rel in relations_between_rids:\n",
    "    print(f\" - {g.qname(rel)}\")\n"
   ]
  },
  {
   "cell_type": "code",
   "execution_count": null,
   "metadata": {},
   "outputs": [],
   "source": [
    "import networkx as nx\n",
    "from rdflib import URIRef\n",
    "\n",
    "RID_PREFIX = \"http://www.radlex.org/RID/\"\n",
    "\n",
    "# Create a directed multigraph\n",
    "G = nx.MultiDiGraph()\n",
    "\n",
    "for s, p, o in g:\n",
    "    s_is_rid = isinstance(s, URIRef) and str(s).startswith(RID_PREFIX) and \"RID\" in str(s)\n",
    "    o_is_rid = isinstance(o, URIRef) and str(o).startswith(RID_PREFIX) and \"RID\" in str(o)\n",
    "\n",
    "    if s_is_rid and o_is_rid:\n",
    "        # Add edge with predicate as label\n",
    "        G.add_edge(str(s), str(o), label=g.qname(p))\n",
    "\n",
    "# Summary info\n",
    "print(f\"Number of RID nodes: {G.number_of_nodes()}\")\n",
    "print(f\"Number of RID-to-RID edges: {G.number_of_edges()}\")\n",
    "\n",
    "# Optional: show first 5 edges\n",
    "for u, v, d in list(G.edges(data=True))[:5]:\n",
    "    print(f\"{u} --[{d['label']}]--> {v}\")"
   ]
  },
  {
   "cell_type": "code",
   "execution_count": 7,
   "metadata": {},
   "outputs": [],
   "source": [
    "G = nx.relabel_nodes(G, lambda x: x.split(\"/\")[-1])"
   ]
  },
  {
   "cell_type": "code",
   "execution_count": 8,
   "metadata": {},
   "outputs": [],
   "source": [
    "def format_relation_label(label):\n",
    "    if label is None:\n",
    "        return \"\"\n",
    "    for prefix in ['RID:', 'rdf:', 'rdfs:', 'owl:']:\n",
    "        if label.startswith(prefix):\n",
    "            label = label[len(prefix):]\n",
    "            break\n",
    "    return label.replace('_', ' ').title()\n",
    "\n",
    "# For MultiDiGraph: iterate over edges with keys\n",
    "for u, v, key, d in G.edges(keys=True, data=True):\n",
    "    original_label = d.get('label', '')\n",
    "    d['label'] = format_relation_label(original_label)"
   ]
  },
  {
   "cell_type": "code",
   "execution_count": null,
   "metadata": {},
   "outputs": [],
   "source": [
    "# Get all unique edge relation types in G\n",
    "relation_types = set()\n",
    "\n",
    "for _, _, _, d in G.edges(keys=True, data=True):\n",
    "    label = d.get('label')\n",
    "    if label:\n",
    "        relation_types.add(label)\n",
    "\n",
    "# Print all unique relation labels\n",
    "print(\"Unique edge relation types:\")\n",
    "for rel in sorted(relation_types):\n",
    "    print(\"-\", rel)"
   ]
  },
  {
   "cell_type": "markdown",
   "metadata": {},
   "source": [
    "### Fix issue with orientation of edge \"subClassOf\"\n",
    "We would like that the edge points from the parent to the child node. Therefore, we redefine the edge with the opposite orientation and also change its label to preserve the logic of the relation."
   ]
  },
  {
   "cell_type": "code",
   "execution_count": null,
   "metadata": {},
   "outputs": [],
   "source": [
    "print(len(G.nodes), len(G.edges))"
   ]
  },
  {
   "cell_type": "code",
   "execution_count": 11,
   "metadata": {},
   "outputs": [],
   "source": [
    "# Create a reversed hierarchy graph with updated label\n",
    "\n",
    "# Collect edges to reverse (u,v,key) with label 'Subclassof'\n",
    "edges_to_reverse = []\n",
    "for u, v, key, d in G.edges(keys=True, data=True):\n",
    "    if d.get('label') == 'Subclassof':\n",
    "        edges_to_reverse.append((u, v, key))\n",
    "\n",
    "# Remove those edges and add reversed edges with new label\n",
    "for u, v, key in edges_to_reverse:\n",
    "    G.remove_edge(u, v, key=key)\n",
    "    G.add_edge(v, u, label='Has Subclass')"
   ]
  },
  {
   "cell_type": "code",
   "execution_count": null,
   "metadata": {},
   "outputs": [],
   "source": [
    "print(len(G.nodes), len(G.edges))"
   ]
  },
  {
   "cell_type": "code",
   "execution_count": null,
   "metadata": {},
   "outputs": [],
   "source": [
    "descendants = nx.descendants(G, 'RID1')\n",
    "print(f\"RID1 has {len(descendants)} subclass descendants.\")\n",
    "print(descendants)"
   ]
  },
  {
   "cell_type": "markdown",
   "metadata": {},
   "source": [
    "### Add code description for each RIDXXXX node"
   ]
  },
  {
   "cell_type": "code",
   "execution_count": 14,
   "metadata": {},
   "outputs": [],
   "source": [
    "import networkx as nx\n",
    "import pandas as pd\n",
    "\n",
    "# Load your CSV file\n",
    "df = pd.read_csv(\"data/d_radlex_entities.csv\")  # Adjust path if necessary\n",
    "\n",
    "# Create a dictionary: code → preferred description\n",
    "desc_map = dict(zip(df['radlex_code'], df['preferred_description']))\n",
    "\n",
    "# Add the description as an attribute to each node in the graph\n",
    "for node in G.nodes():\n",
    "    if node in desc_map:\n",
    "        G.nodes[node]['description'] = desc_map[node]\n",
    "    else:\n",
    "        G.nodes[node]['description'] = \"(no description)\""
   ]
  },
  {
   "cell_type": "code",
   "execution_count": null,
   "metadata": {},
   "outputs": [],
   "source": [
    "print(len(G.nodes), len(G.edges))"
   ]
  },
  {
   "cell_type": "code",
   "execution_count": 19,
   "metadata": {},
   "outputs": [],
   "source": [
    "# Save graph\n",
    "import pickle\n",
    "\n",
    "with open(\"data/RadLex_graph.gpickle\", \"wb\") as f:\n",
    "    pickle.dump(G, f)"
   ]
  },
  {
   "cell_type": "markdown",
   "metadata": {},
   "source": [
    "### TEST: Try to extract subgraph corresponding to codes from a sample report\n",
    "Note to self: make sure that the differences between the output from ``graph_sample.html`` and ``with_pahts_to_RID1.html`` in the ``ontology_exploration.ipynb``code are ok."
   ]
  },
  {
   "cell_type": "code",
   "execution_count": 8,
   "metadata": {},
   "outputs": [
    {
     "data": {
      "text/plain": [
       "<networkx.classes.multidigraph.MultiDiGraph at 0x1171e8070>"
      ]
     },
     "execution_count": 8,
     "metadata": {},
     "output_type": "execute_result"
    }
   ],
   "source": [
    "import networkx as nx\n",
    "import pickle\n",
    "\n",
    "with open(\"data/RadLex_graph.gpickle\", \"rb\") as f:\n",
    "    G = pickle.load(f)\n",
    "\n",
    "G"
   ]
  },
  {
   "cell_type": "code",
   "execution_count": 9,
   "metadata": {},
   "outputs": [
    {
     "name": "stdout",
     "output_type": "stream",
     "text": [
      "46899 154615\n"
     ]
    }
   ],
   "source": [
    "print(len(G.nodes), len(G.edges))"
   ]
  },
  {
   "cell_type": "code",
   "execution_count": 10,
   "metadata": {},
   "outputs": [],
   "source": [
    "codes = ['RID908', 'RID5619', 'RID5622', 'RID10404', 'RID10326', 'RID29991', 'RID5611', 'RID5576', 'RID1543']\n",
    "root = 'RID1'"
   ]
  },
  {
   "cell_type": "code",
   "execution_count": 11,
   "metadata": {},
   "outputs": [
    {
     "name": "stdout",
     "output_type": "stream",
     "text": [
      "Warning: When  cdn_resources is 'local' jupyter notebook has issues displaying graphics on chrome/safari. Use cdn_resources='in_line' or cdn_resources='remote' if you have issues viewing graphics in a notebook.\n",
      "data/output/graph_sample.html\n"
     ]
    }
   ],
   "source": [
    "import networkx as nx\n",
    "from pyvis.network import Network\n",
    "from itertools import combinations\n",
    "\n",
    "codes = ['RID908', 'RID5619', 'RID5622', 'RID10404', 'RID10326', 'RID29991', 'RID5611', 'RID5576', 'RID1543']\n",
    "root = 'RID1'\n",
    "\n",
    "# --- Step 1: Extract subgraph containing all paths between any pair of codes ---\n",
    "\n",
    "nodes_to_include = set(codes)\n",
    "\n",
    "# For every pair of codes, include all nodes on shortest paths between them (if paths exist)\n",
    "for u, v in combinations(codes, 2):\n",
    "    if nx.has_path(G, u, v):\n",
    "        path_nodes = nx.shortest_path(G, u, v)\n",
    "        nodes_to_include.update(path_nodes)\n",
    "    if nx.has_path(G, v, u):\n",
    "        path_nodes = nx.shortest_path(G, v, u)\n",
    "        nodes_to_include.update(path_nodes)\n",
    "\n",
    "H_sub = G.subgraph(nodes_to_include).copy()\n",
    "\n",
    "# --- Step 2: Clean graph by removing self-loops and reciprocal edges ---\n",
    "\n",
    "def simplify_graph_for_display(G):\n",
    "    simplified = nx.DiGraph()\n",
    "    seen_pairs = set()\n",
    "    for u, v, d in G.edges(data=True):\n",
    "        if u == v:\n",
    "            continue  # remove self-loops\n",
    "        pair = tuple(sorted((u, v)))\n",
    "        if pair in seen_pairs:\n",
    "            continue  # remove reciprocal edge (keep first encountered)\n",
    "        seen_pairs.add(pair)\n",
    "        simplified.add_edge(u, v, label=d.get('label'))\n",
    "    return simplified\n",
    "\n",
    "cleaned_H = simplify_graph_for_display(H_sub)\n",
    "\n",
    "# --- Step 3: Add shortest paths from RID1 to each code (from full ontology G) ---\n",
    "\n",
    "highlight_edges = set()\n",
    "\n",
    "for code in codes:\n",
    "    if nx.has_path(G, root, code):\n",
    "        path = nx.shortest_path(G, root, code)\n",
    "        for i in range(len(path) - 1):\n",
    "            u, v = path[i], path[i+1]\n",
    "            edge_data = G.get_edge_data(u, v)\n",
    "            first_key = next(iter(edge_data))\n",
    "            label = edge_data[first_key].get('label', '')\n",
    "            cleaned_H.add_edge(u, v, label=label)\n",
    "            highlight_edges.add((u, v))\n",
    "        for node in path:\n",
    "            cleaned_H.add_node(node)  # ensure all path nodes are included\n",
    "\n",
    "# --- Step 4: Visualize with pyvis ---\n",
    "\n",
    "net = Network(height=\"700px\", width=\"100%\", directed=True, notebook=True)\n",
    "\n",
    "for node in cleaned_H.nodes():\n",
    "    if node == root:\n",
    "        color = 'orange'\n",
    "        size = 30\n",
    "    elif node in codes:\n",
    "        color = 'skyblue'\n",
    "        size = 25\n",
    "    else:\n",
    "        color = 'lightgray'\n",
    "        size = 10\n",
    "    label = node\n",
    "    title = G.nodes[node].get('description', '')  # Tooltip on hover\n",
    "    net.add_node(node, label=label, title=title, color=color, size=size)\n",
    "\n",
    "for u, v, d in cleaned_H.edges(data=True):\n",
    "    color = 'black' if (u, v) in highlight_edges else '#cccccc'\n",
    "    net.add_edge(u, v, label=d.get('label', ''), color=color)\n",
    "\n",
    "net.repulsion(node_distance=150, spring_length=200)\n",
    "\n",
    "output_path = \"data/output/graph_sample.html\"\n",
    "net.show(output_path)\n",
    "\n",
    "# --- Step 5: Add legend to the saved HTML ---\n",
    "\n",
    "# Read back the HTML file\n",
    "with open(output_path, 'r', encoding='utf-8') as f:\n",
    "    html = f.read()\n",
    "\n",
    "# Build legend HTML snippet\n",
    "legend_items = []\n",
    "for code in codes:\n",
    "    desc = G.nodes[code].get('description', '')\n",
    "    legend_items.append(f\"<li><b>{code}</b>: {desc}</li>\")\n",
    "\n",
    "legend_html = f\"\"\"\n",
    "<div style=\"position: fixed; bottom: 20px; left: 20px; background: white; \n",
    "            border: 2px solid black; padding: 10px; max-width: 300px; \n",
    "            font-family: Arial, sans-serif; font-size: 12px; overflow-y: auto; max-height: 200px; z-index:9999;\">\n",
    "  <h4>Extracted RadLex codes</h4>\n",
    "  <ul style=\"padding-left: 1em; margin: 0;\">{''.join(legend_items)}</ul>\n",
    "</div>\n",
    "\"\"\"\n",
    "\n",
    "# Inject legend just before closing </body> tag\n",
    "html = html.replace(\"</body>\", legend_html + \"</body>\")\n",
    "\n",
    "# Write back modified HTML\n",
    "with open(output_path, 'w', encoding='utf-8') as f:\n",
    "    f.write(html)"
   ]
  }
 ],
 "metadata": {
  "kernelspec": {
   "display_name": "di-lab",
   "language": "python",
   "name": "python3"
  },
  "language_info": {
   "codemirror_mode": {
    "name": "ipython",
    "version": 3
   },
   "file_extension": ".py",
   "mimetype": "text/x-python",
   "name": "python",
   "nbconvert_exporter": "python",
   "pygments_lexer": "ipython3",
   "version": "3.10.17"
  }
 },
 "nbformat": 4,
 "nbformat_minor": 2
}
